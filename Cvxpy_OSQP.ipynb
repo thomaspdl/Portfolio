{
 "cells": [
  {
   "cell_type": "markdown",
   "metadata": {},
   "source": [
    "Import libraries"
   ]
  },
  {
   "cell_type": "code",
   "execution_count": 34,
   "metadata": {},
   "outputs": [],
   "source": [
    "import numpy as np\n",
    "import scipy as sp\n",
    "import scipy.sparse as sparse\n",
    "import cvxpy as cvx\n",
    "import osqp\n",
    "from time import time\n",
    "\n",
    "import mosek"
   ]
  },
  {
   "cell_type": "markdown",
   "metadata": {},
   "source": [
    "Define size of the problems"
   ]
  },
  {
   "cell_type": "code",
   "execution_count": 35,
   "metadata": {},
   "outputs": [],
   "source": [
    "# Dimensions of the problem\n",
    "n = 200\n",
    "k = 50"
   ]
  },
  {
   "cell_type": "code",
   "execution_count": 36,
   "metadata": {},
   "outputs": [],
   "source": [
    "# Generate problem data\n",
    "sp.random.seed(1)\n",
    "F     = sparse.random(n, k, density=0.7, format='csc')\n",
    "D     = sparse.diags(np.random.rand(n) * np.sqrt(k), format='csc')\n",
    "Sigma = F*F.T + D\n",
    "mu    = np.random.randn(n)\n",
    "gamma = 1"
   ]
  },
  {
   "cell_type": "markdown",
   "metadata": {},
   "source": [
    "CVXPY"
   ]
  },
  {
   "cell_type": "code",
   "execution_count": 37,
   "metadata": {},
   "outputs": [],
   "source": [
    "# Define problem\n",
    "x = cvx.Variable(n)\n",
    "objective = - mu.T*x + gamma*cvx.quad_form(x,Sigma)\n",
    "constraints = [sum(x) == 1, x >= 0]"
   ]
  },
  {
   "cell_type": "markdown",
   "metadata": {},
   "source": [
    "SCS"
   ]
  },
  {
   "cell_type": "code",
   "execution_count": 38,
   "metadata": {},
   "outputs": [],
   "source": [
    "# Solve SCS\n",
    "t = time()\n",
    "cvx.Problem(cvx.Minimize(objective), constraints).solve(solver = 'SCS')\n",
    "Tscs = time() - t"
   ]
  },
  {
   "cell_type": "markdown",
   "metadata": {},
   "source": [
    "ECOS"
   ]
  },
  {
   "cell_type": "code",
   "execution_count": 39,
   "metadata": {},
   "outputs": [],
   "source": [
    "# Solve ECOS\n",
    "t = time()\n",
    "cvx.Problem(cvx.Minimize(objective), constraints).solve(solver = 'ECOS')\n",
    "Tecos = time() - t"
   ]
  },
  {
   "cell_type": "markdown",
   "metadata": {},
   "source": [
    "OSQP solver"
   ]
  },
  {
   "cell_type": "code",
   "execution_count": 40,
   "metadata": {},
   "outputs": [],
   "source": [
    "# Solve OSQPsolver\n",
    "t = time()\n",
    "cvx.Problem(cvx.Minimize(objective), constraints).solve(solver = cvx.OSQP)\n",
    "Tosqps = time() - t"
   ]
  },
  {
   "cell_type": "markdown",
   "metadata": {},
   "source": [
    "MOSEK"
   ]
  },
  {
   "cell_type": "code",
   "execution_count": 41,
   "metadata": {},
   "outputs": [],
   "source": [
    "# # Solve MOSEK\n",
    "# t = time()\n",
    "# cvx.Problem(cvx.Minimize(objective), constraints).solve(solver = cvx.MOSEK)\n",
    "# Tmosek = time() - t"
   ]
  },
  {
   "cell_type": "markdown",
   "metadata": {},
   "source": [
    "Elemental"
   ]
  },
  {
   "cell_type": "code",
   "execution_count": null,
   "metadata": {},
   "outputs": [],
   "source": []
  },
  {
   "cell_type": "markdown",
   "metadata": {},
   "source": [
    "OSQP"
   ]
  },
  {
   "cell_type": "code",
   "execution_count": 293,
   "metadata": {},
   "outputs": [],
   "source": [
    "# OSQP data\n",
    "P = sparse.block_diag((D, sparse.eye(k)), format='csc')\n",
    "q = np.hstack([-mu / (2*gamma), np.zeros(k)])\n",
    "A = sparse.vstack([\n",
    "        sparse.hstack([F.T, -sparse.eye(k)]),\n",
    "        sparse.hstack([sparse.csc_matrix(np.ones((1, n))), sparse.csc_matrix((1, k))]),\n",
    "        sparse.hstack((sparse.eye(n), sparse.csc_matrix((n, k))))\n",
    "    ]).tocsc()\n",
    "l = np.hstack([np.zeros(k), 1., np.zeros(n)])\n",
    "u = np.hstack([np.zeros(k), 1., np.ones(n)])"
   ]
  },
  {
   "cell_type": "code",
   "execution_count": 294,
   "metadata": {
    "scrolled": true
   },
   "outputs": [
    {
     "name": "stdout",
     "output_type": "stream",
     "text": [
      "-----------------------------------------------------------------\n",
      "           OSQP v0.5.0  -  Operator Splitting QP Solver\n",
      "              (c) Bartolomeo Stellato,  Goran Banjac\n",
      "        University of Oxford  -  Stanford University 2018\n",
      "-----------------------------------------------------------------\n",
      "problem:  variables n = 250, constraints m = 251\n",
      "          nnz(P) + nnz(A) = 7700\n",
      "settings: linear system solver = qdldl,\n",
      "          eps_abs = 1.0e-03, eps_rel = 1.0e-03,\n",
      "          eps_prim_inf = 1.0e-04, eps_dual_inf = 1.0e-04,\n",
      "          rho = 1.00e-01 (adaptive),\n",
      "          sigma = 1.00e-06, alpha = 1.60, max_iter = 4000\n",
      "          check_termination: on (interval 25),\n",
      "          scaling: on, scaled_termination: off\n",
      "          warm start: on, polish: off\n",
      "\n",
      "iter   objective    pri res    dua res    rho        time\n",
      "   1  -6.9151e+00   1.17e+00   1.14e+02   1.00e-01   3.42e-03s\n",
      " 150   1.4379e+00   6.02e-04   8.40e-04   1.95e+00   4.75e-03s\n",
      "\n",
      "status:               solved\n",
      "number of iterations: 150\n",
      "optimal objective:    1.4379\n",
      "run time:             5.29e-03s\n",
      "optimal rho estimate: 2.25e+00\n",
      "\n"
     ]
    }
   ],
   "source": [
    "# Create an OSQP object\n",
    "prob = osqp.OSQP()\n",
    "\n",
    "# Setup workspace\n",
    "prob.setup(P, q, A, l, u)\n",
    "\n",
    "# Solve problem\n",
    "t = time()\n",
    "res = prob.solve()\n",
    "Tosqp = time() - t"
   ]
  },
  {
   "cell_type": "code",
   "execution_count": 295,
   "metadata": {},
   "outputs": [
    {
     "name": "stdout",
     "output_type": "stream",
     "text": [
      "0.00579309463501\n",
      "0.0337760448456\n",
      "0.104723930359\n",
      "0.317884922028\n",
      "0.313035011292\n"
     ]
    }
   ],
   "source": [
    "print Tosqp\n",
    "print Tosqps\n",
    "print Tscs\n",
    "print Tecos"
   ]
  },
  {
   "cell_type": "code",
   "execution_count": 296,
   "metadata": {},
   "outputs": [
    {
     "name": "stdout",
     "output_type": "stream",
     "text": [
      "5.83039756359\n",
      "18.0773726233\n",
      "54.8730759733\n",
      "54.0358877274\n"
     ]
    }
   ],
   "source": [
    "print Tosqps/Tosqp\n",
    "print Tscs/Tosqp\n",
    "print Tecos/Tosqp"
   ]
  },
  {
   "cell_type": "code",
   "execution_count": null,
   "metadata": {},
   "outputs": [],
   "source": []
  },
  {
   "cell_type": "code",
   "execution_count": null,
   "metadata": {},
   "outputs": [],
   "source": []
  },
  {
   "cell_type": "code",
   "execution_count": null,
   "metadata": {},
   "outputs": [],
   "source": []
  },
  {
   "cell_type": "code",
   "execution_count": null,
   "metadata": {},
   "outputs": [],
   "source": []
  },
  {
   "cell_type": "code",
   "execution_count": null,
   "metadata": {},
   "outputs": [],
   "source": []
  }
 ],
 "metadata": {
  "kernelspec": {
   "display_name": "Python 2",
   "language": "python",
   "name": "python2"
  },
  "language_info": {
   "codemirror_mode": {
    "name": "ipython",
    "version": 2
   },
   "file_extension": ".py",
   "mimetype": "text/x-python",
   "name": "python",
   "nbconvert_exporter": "python",
   "pygments_lexer": "ipython2",
   "version": "2.7.15"
  }
 },
 "nbformat": 4,
 "nbformat_minor": 2
}
